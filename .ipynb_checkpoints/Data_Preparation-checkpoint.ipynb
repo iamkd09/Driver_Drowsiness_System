{
 "cells": [
  {
   "cell_type": "code",
   "execution_count": 21,
   "id": "61eec0c2",
   "metadata": {},
   "outputs": [],
   "source": [
    "import os\n",
    "import shutil\n",
    "import glob\n",
    "from tqdm import tqdm"
   ]
  },
  {
   "cell_type": "code",
   "execution_count": 26,
   "id": "67b0f25e",
   "metadata": {},
   "outputs": [
    {
     "name": "stderr",
     "output_type": "stream",
     "text": [
      "0it [00:00, ?it/s]\n",
      "100%|██████████| 704/704 [00:00<00:00, 29646.49it/s]\n",
      "100%|██████████| 1012/1012 [00:00<00:00, 29950.86it/s]\n",
      "100%|██████████| 1069/1069 [00:00<00:00, 30023.71it/s]\n",
      "100%|██████████| 736/736 [00:00<00:00, 28502.12it/s]\n",
      "100%|██████████| 6193/6193 [00:00<00:00, 32447.50it/s]\n",
      "100%|██████████| 382/382 [00:00<00:00, 28515.92it/s]\n",
      "100%|██████████| 679/679 [00:00<00:00, 29814.41it/s]\n",
      "100%|██████████| 1648/1648 [00:00<00:00, 32096.98it/s]\n",
      "100%|██████████| 4410/4410 [00:00<00:00, 30906.17it/s]\n",
      "100%|██████████| 739/739 [00:00<00:00, 29212.76it/s]\n",
      "100%|██████████| 1132/1132 [00:00<00:00, 30308.91it/s]\n",
      "100%|██████████| 3605/3605 [00:00<00:00, 32372.26it/s]\n",
      "100%|██████████| 1384/1384 [00:00<00:00, 32267.46it/s]\n",
      "100%|██████████| 1114/1114 [00:00<00:00, 31365.91it/s]\n",
      "100%|██████████| 10257/10257 [00:00<00:00, 31718.03it/s]\n",
      "100%|██████████| 665/665 [00:00<00:00, 30504.20it/s]\n",
      "100%|██████████| 1889/1889 [00:00<00:00, 27042.85it/s]\n",
      "100%|██████████| 6162/6162 [00:00<00:00, 30257.16it/s]\n",
      "100%|██████████| 736/736 [00:00<00:00, 30454.07it/s]\n",
      "100%|██████████| 399/399 [00:00<00:00, 30150.39it/s]\n",
      "100%|██████████| 8728/8728 [00:00<00:00, 31578.20it/s]\n",
      "100%|██████████| 832/832 [00:00<00:00, 28798.52it/s]\n",
      "100%|██████████| 642/642 [00:00<00:00, 27771.40it/s]\n",
      "100%|██████████| 3242/3242 [00:00<00:00, 31346.88it/s]\n",
      "100%|██████████| 387/387 [00:00<00:00, 30222.04it/s]\n",
      "100%|██████████| 1502/1502 [00:00<00:00, 29879.17it/s]\n",
      "100%|██████████| 987/987 [00:00<00:00, 27854.60it/s]\n",
      "100%|██████████| 522/522 [00:00<00:00, 25144.73it/s]\n",
      "100%|██████████| 752/752 [00:00<00:00, 27826.84it/s]\n",
      "100%|██████████| 681/681 [00:00<00:00, 29524.53it/s]\n",
      "100%|██████████| 6175/6175 [00:00<00:00, 30980.88it/s]\n",
      "100%|██████████| 1648/1648 [00:00<00:00, 31367.11it/s]\n",
      "100%|██████████| 8884/8884 [00:00<00:00, 30917.88it/s]\n",
      "100%|██████████| 1738/1738 [00:00<00:00, 28220.31it/s]\n",
      "100%|██████████| 624/624 [00:00<00:00, 29349.87it/s]\n",
      "100%|██████████| 1246/1246 [00:00<00:00, 28765.90it/s]\n",
      "100%|██████████| 1393/1393 [00:00<00:00, 28604.48it/s]\n"
     ]
    }
   ],
   "source": [
    "Raw_DIR= r'/home/lenovo/Driver_Drowiness_Detection/mrlEyes_2018_01'\n",
    "for dirpath, dirname, filenames in os.walk(Raw_DIR):\n",
    "    for i in tqdm([f for f in filenames if f.endswith('.png')]):\n",
    "        if i.split('_')[4]=='0':\n",
    "            shutil.copy(src=dirpath+'/'+i, dst=r'/home/lenovo/Driver_Drowiness_Detection/prepared_data/closed_eyes')\n",
    "        \n",
    "        elif i.split('_')[4]=='1':\n",
    "            shutil.copy(src=dirpath+'/'+i, dst=r'/home/lenovo/Driver_Drowiness_Detection/prepared_data/open_eyes')\n"
   ]
  },
  {
   "cell_type": "code",
   "execution_count": null,
   "id": "a7508295",
   "metadata": {},
   "outputs": [],
   "source": []
  },
  {
   "cell_type": "code",
   "execution_count": null,
   "id": "631d64b3",
   "metadata": {},
   "outputs": [],
   "source": []
  },
  {
   "cell_type": "code",
   "execution_count": null,
   "id": "8a9e2038",
   "metadata": {},
   "outputs": [],
   "source": []
  },
  {
   "cell_type": "code",
   "execution_count": null,
   "id": "1cce3df4",
   "metadata": {},
   "outputs": [],
   "source": []
  },
  {
   "cell_type": "code",
   "execution_count": null,
   "id": "feeb1981",
   "metadata": {},
   "outputs": [],
   "source": []
  }
 ],
 "metadata": {
  "kernelspec": {
   "display_name": "Python 3 (ipykernel)",
   "language": "python",
   "name": "python3"
  },
  "language_info": {
   "codemirror_mode": {
    "name": "ipython",
    "version": 3
   },
   "file_extension": ".py",
   "mimetype": "text/x-python",
   "name": "python",
   "nbconvert_exporter": "python",
   "pygments_lexer": "ipython3",
   "version": "3.11.3"
  }
 },
 "nbformat": 4,
 "nbformat_minor": 5
}
