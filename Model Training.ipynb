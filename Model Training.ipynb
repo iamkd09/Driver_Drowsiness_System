{
 "cells": [
  {
   "cell_type": "code",
   "execution_count": 1,
   "id": "f04b0d42",
   "metadata": {},
   "outputs": [
    {
     "name": "stderr",
     "output_type": "stream",
     "text": [
      "2023-08-04 23:18:44.001488: I tensorflow/core/util/port.cc:110] oneDNN custom operations are on. You may see slightly different numerical results due to floating-point round-off errors from different computation orders. To turn them off, set the environment variable `TF_ENABLE_ONEDNN_OPTS=0`.\n",
      "2023-08-04 23:18:44.002922: I tensorflow/tsl/cuda/cudart_stub.cc:28] Could not find cuda drivers on your machine, GPU will not be used.\n",
      "2023-08-04 23:18:44.033423: I tensorflow/tsl/cuda/cudart_stub.cc:28] Could not find cuda drivers on your machine, GPU will not be used.\n",
      "2023-08-04 23:18:44.034123: I tensorflow/core/platform/cpu_feature_guard.cc:182] This TensorFlow binary is optimized to use available CPU instructions in performance-critical operations.\n",
      "To enable the following instructions: AVX2 AVX512F AVX512_VNNI FMA, in other operations, rebuild TensorFlow with the appropriate compiler flags.\n",
      "2023-08-04 23:18:44.582485: W tensorflow/compiler/tf2tensorrt/utils/py_utils.cc:38] TF-TRT Warning: Could not find TensorRT\n"
     ]
    }
   ],
   "source": [
    "import tensorflow as tf\n",
    "from tensorflow.keras.applications import InceptionV3\n",
    "from tensorflow.keras.models import Model\n",
    "from tensorflow.keras.layers import Dropout,Input,Flatten,Dense,MaxPooling2D\n",
    "from tensorflow.keras.optimizers import Adam\n",
    "from tensorflow.keras.preprocessing.image import ImageDataGenerator  # Data Augumentation"
   ]
  },
  {
   "cell_type": "code",
   "execution_count": 2,
   "id": "9022eb40",
   "metadata": {},
   "outputs": [
    {
     "name": "stdout",
     "output_type": "stream",
     "text": [
      "WARNING:tensorflow:From /tmp/ipykernel_61789/337460670.py:1: is_gpu_available (from tensorflow.python.framework.test_util) is deprecated and will be removed in a future version.\n",
      "Instructions for updating:\n",
      "Use `tf.config.list_physical_devices('GPU')` instead.\n"
     ]
    },
    {
     "data": {
      "text/plain": [
       "False"
      ]
     },
     "execution_count": 2,
     "metadata": {},
     "output_type": "execute_result"
    }
   ],
   "source": [
    "tf.test.is_gpu_available()"
   ]
  },
  {
   "cell_type": "code",
   "execution_count": 3,
   "id": "9303c6b0",
   "metadata": {},
   "outputs": [],
   "source": [
    "batchsize=8"
   ]
  },
  {
   "cell_type": "code",
   "execution_count": 4,
   "id": "d2bbb20d",
   "metadata": {},
   "outputs": [],
   "source": [
    "train_datagen= ImageDataGenerator(rescale=1./255, rotation_range=0.2,shear_range=0.2,\n",
    "    zoom_range=0.2,width_shift_range=0.2,\n",
    "    height_shift_range=0.2, validation_split=0.2)"
   ]
  },
  {
   "cell_type": "code",
   "execution_count": 5,
   "id": "8284479b",
   "metadata": {},
   "outputs": [
    {
     "name": "stdout",
     "output_type": "stream",
     "text": [
      "Found 64639 images belonging to 2 classes.\n",
      "Found 16158 images belonging to 2 classes.\n"
     ]
    }
   ],
   "source": [
    "train_data= train_datagen.flow_from_directory(r'/home/lenovo/Driver_Drowiness_Detection/prepared_data/train',\n",
    "                                target_size=(80,80),batch_size=8,class_mode='categorical',subset='training' )\n",
    "\n",
    "validation_data= train_datagen.flow_from_directory(r'/home/lenovo/Driver_Drowiness_Detection/prepared_data/train',\n",
    "                                target_size=(80,80),batch_size=8,class_mode='categorical', subset='validation')"
   ]
  },
  {
   "cell_type": "code",
   "execution_count": 6,
   "id": "762a3548",
   "metadata": {},
   "outputs": [
    {
     "name": "stdout",
     "output_type": "stream",
     "text": [
      "Found 80797 images belonging to 2 classes.\n"
     ]
    }
   ],
   "source": [
    "test_datagen = ImageDataGenerator(rescale=1./255)\n",
    "\n",
    "test_data = test_datagen.flow_from_directory(r'/home/lenovo/Driver_Drowiness_Detection/prepared_data/train',\n",
    "                                target_size=(80,80),batch_size=8,class_mode='categorical')"
   ]
  },
  {
   "cell_type": "code",
   "execution_count": 7,
   "id": "1c8f55e4",
   "metadata": {},
   "outputs": [],
   "source": [
    "bmodel = InceptionV3(include_top=False, weights='imagenet', input_tensor=Input(shape=(80,80,3),batch_size=8))\n",
    "hmodel = bmodel.output\n",
    "hmodel = Flatten()(hmodel)\n",
    "hmodel = Dense(64, activation='relu')(hmodel)\n",
    "hmodel = Dropout(0.5)(hmodel)\n",
    "hmodel = Dense(2,activation= 'softmax')(hmodel)\n",
    "\n",
    "model = Model(inputs=bmodel.input, outputs= hmodel)\n",
    "for layer in bmodel.layers:\n",
    "    layer.trainable = False"
   ]
  },
  {
   "cell_type": "code",
   "execution_count": null,
   "id": "0076da42",
   "metadata": {},
   "outputs": [],
   "source": [
    "\n"
   ]
  },
  {
   "cell_type": "code",
   "execution_count": 8,
   "id": "758e60a2",
   "metadata": {},
   "outputs": [],
   "source": [
    "from tensorflow.keras.callbacks import ModelCheckpoint,EarlyStopping, ReduceLROnPlateau"
   ]
  },
  {
   "cell_type": "code",
   "execution_count": 9,
   "id": "aaa7ba2f",
   "metadata": {},
   "outputs": [],
   "source": [
    "checkpoint = ModelCheckpoint(r'/home/lenovo/Driver_Drowiness_Detection\\models',\n",
    "                            monitor='val_loss',save_best_only=True,verbose=3)\n",
    "\n",
    "earlystop = EarlyStopping(monitor = 'val_loss', patience=7, verbose= 3, restore_best_weights=True)\n",
    "\n",
    "learning_rate = ReduceLROnPlateau(monitor= 'val_loss', patience=3, verbose= 3, )\n",
    "\n",
    "callbacks=[checkpoint,earlystop,learning_rate]\n"
   ]
  },
  {
   "cell_type": "code",
   "execution_count": 10,
   "id": "12a6be36",
   "metadata": {},
   "outputs": [
    {
     "name": "stdout",
     "output_type": "stream",
     "text": [
      "Epoch 1/5\n"
     ]
    },
    {
     "name": "stderr",
     "output_type": "stream",
     "text": [
      "/tmp/ipykernel_61789/3918530525.py:3: UserWarning: `Model.fit_generator` is deprecated and will be removed in a future version. Please use `Model.fit`, which supports generators.\n",
      "  model.fit_generator(train_data,steps_per_epoch=train_data.samples//batchsize,\n"
     ]
    },
    {
     "name": "stdout",
     "output_type": "stream",
     "text": [
      "8079/8079 [==============================] - ETA: 0s - loss: 0.2054 - accuracy: 0.9205\n",
      "Epoch 1: val_loss improved from inf to 0.18505, saving model to /home/lenovo/Driver_Drowiness_Detection\\models\n",
      "INFO:tensorflow:Assets written to: /home/lenovo/Driver_Drowiness_Detection\\models/assets\n"
     ]
    },
    {
     "name": "stderr",
     "output_type": "stream",
     "text": [
      "INFO:tensorflow:Assets written to: /home/lenovo/Driver_Drowiness_Detection\\models/assets\n"
     ]
    },
    {
     "name": "stdout",
     "output_type": "stream",
     "text": [
      "8079/8079 [==============================] - 577s 71ms/step - loss: 0.2054 - accuracy: 0.9205 - val_loss: 0.1850 - val_accuracy: 0.9238 - lr: 0.0010\n",
      "Epoch 2/5\n",
      "8079/8079 [==============================] - ETA: 0s - loss: 0.1796 - accuracy: 0.9304\n",
      "Epoch 2: val_loss improved from 0.18505 to 0.17987, saving model to /home/lenovo/Driver_Drowiness_Detection\\models\n",
      "INFO:tensorflow:Assets written to: /home/lenovo/Driver_Drowiness_Detection\\models/assets\n"
     ]
    },
    {
     "name": "stderr",
     "output_type": "stream",
     "text": [
      "INFO:tensorflow:Assets written to: /home/lenovo/Driver_Drowiness_Detection\\models/assets\n"
     ]
    },
    {
     "name": "stdout",
     "output_type": "stream",
     "text": [
      "8079/8079 [==============================] - 610s 75ms/step - loss: 0.1796 - accuracy: 0.9304 - val_loss: 0.1799 - val_accuracy: 0.9229 - lr: 0.0010\n",
      "Epoch 3/5\n",
      "8079/8079 [==============================] - ETA: 0s - loss: 0.1709 - accuracy: 0.9353\n",
      "Epoch 3: val_loss improved from 0.17987 to 0.17604, saving model to /home/lenovo/Driver_Drowiness_Detection\\models\n",
      "INFO:tensorflow:Assets written to: /home/lenovo/Driver_Drowiness_Detection\\models/assets\n"
     ]
    },
    {
     "name": "stderr",
     "output_type": "stream",
     "text": [
      "INFO:tensorflow:Assets written to: /home/lenovo/Driver_Drowiness_Detection\\models/assets\n"
     ]
    },
    {
     "name": "stdout",
     "output_type": "stream",
     "text": [
      "8079/8079 [==============================] - 618s 77ms/step - loss: 0.1709 - accuracy: 0.9353 - val_loss: 0.1760 - val_accuracy: 0.9287 - lr: 0.0010\n",
      "Epoch 4/5\n",
      "8079/8079 [==============================] - ETA: 0s - loss: 0.1654 - accuracy: 0.9374\n",
      "Epoch 4: val_loss improved from 0.17604 to 0.17487, saving model to /home/lenovo/Driver_Drowiness_Detection\\models\n",
      "INFO:tensorflow:Assets written to: /home/lenovo/Driver_Drowiness_Detection\\models/assets\n"
     ]
    },
    {
     "name": "stderr",
     "output_type": "stream",
     "text": [
      "INFO:tensorflow:Assets written to: /home/lenovo/Driver_Drowiness_Detection\\models/assets\n"
     ]
    },
    {
     "name": "stdout",
     "output_type": "stream",
     "text": [
      "8079/8079 [==============================] - 629s 78ms/step - loss: 0.1654 - accuracy: 0.9374 - val_loss: 0.1749 - val_accuracy: 0.9280 - lr: 0.0010\n",
      "Epoch 5/5\n",
      "8079/8079 [==============================] - ETA: 0s - loss: 0.1627 - accuracy: 0.9376\n",
      "Epoch 5: val_loss improved from 0.17487 to 0.17441, saving model to /home/lenovo/Driver_Drowiness_Detection\\models\n",
      "INFO:tensorflow:Assets written to: /home/lenovo/Driver_Drowiness_Detection\\models/assets\n"
     ]
    },
    {
     "name": "stderr",
     "output_type": "stream",
     "text": [
      "INFO:tensorflow:Assets written to: /home/lenovo/Driver_Drowiness_Detection\\models/assets\n"
     ]
    },
    {
     "name": "stdout",
     "output_type": "stream",
     "text": [
      "\b\b\b\b\b\b\b\b\b\b\b\b\b\b\b\b\b\b\b\b\b\b\b\b\b\b\b\b\b\b\b\b\b\b\b\b\b\b\b\b\b\b\b\b\b\b\b\b\b\b\b\b\b\b\b\b\b\b\b\b\b\b\b\b\b\b\b\b\b\b\b\b\b\b\b\b\b\b\b\b\b\b\b\b\b\b\r",
      "8079/8079 [==============================] - 630s 78ms/step - loss: 0.1627 - accuracy: 0.9376 - val_loss: 0.1744 - val_accuracy: 0.9295 - lr: 0.0010\n"
     ]
    },
    {
     "data": {
      "text/plain": [
       "<keras.src.callbacks.History at 0x7f9fa418f210>"
      ]
     },
     "execution_count": 10,
     "metadata": {},
     "output_type": "execute_result"
    }
   ],
   "source": [
    "model.compile(optimizer='Adam', loss='categorical_crossentropy',metrics=['accuracy'])\n",
    "\n",
    "model.fit_generator(train_data,steps_per_epoch=train_data.samples//batchsize,\n",
    "                   validation_data=validation_data,\n",
    "                   validation_steps=validation_data.samples//batchsize,\n",
    "                   callbacks=callbacks,\n",
    "                    epochs=5)"
   ]
  },
  {
   "cell_type": "code",
   "execution_count": 11,
   "id": "a389211b",
   "metadata": {},
   "outputs": [
    {
     "name": "stderr",
     "output_type": "stream",
     "text": [
      "/tmp/ipykernel_61789/713691994.py:1: UserWarning: `Model.evaluate_generator` is deprecated and will be removed in a future version. Please use `Model.evaluate`, which supports generators.\n",
      "  acc_tr, loss_tr = model.evaluate_generator(train_data)\n"
     ]
    },
    {
     "name": "stdout",
     "output_type": "stream",
     "text": [
      "0.13850198686122894\n",
      "0.9461934566497803\n"
     ]
    }
   ],
   "source": [
    "acc_tr, loss_tr = model.evaluate_generator(train_data)\n",
    "print(acc_tr)\n",
    "print(loss_tr)"
   ]
  },
  {
   "cell_type": "code",
   "execution_count": 12,
   "id": "f124ed2a",
   "metadata": {},
   "outputs": [
    {
     "name": "stderr",
     "output_type": "stream",
     "text": [
      "/tmp/ipykernel_61789/2364354670.py:1: UserWarning: `Model.evaluate_generator` is deprecated and will be removed in a future version. Please use `Model.evaluate`, which supports generators.\n",
      "  acc_tr, loss_vr = model.evaluate_generator(validation_data)\n"
     ]
    },
    {
     "ename": "NameError",
     "evalue": "name 'acc_vr' is not defined",
     "output_type": "error",
     "traceback": [
      "\u001b[0;31m---------------------------------------------------------------------------\u001b[0m",
      "\u001b[0;31mNameError\u001b[0m                                 Traceback (most recent call last)",
      "Cell \u001b[0;32mIn[12], line 2\u001b[0m\n\u001b[1;32m      1\u001b[0m acc_tr, loss_vr \u001b[38;5;241m=\u001b[39m model\u001b[38;5;241m.\u001b[39mevaluate_generator(validation_data)\n\u001b[0;32m----> 2\u001b[0m \u001b[38;5;28mprint\u001b[39m(acc_vr)\n\u001b[1;32m      3\u001b[0m \u001b[38;5;28mprint\u001b[39m(loss_vr)\n",
      "\u001b[0;31mNameError\u001b[0m: name 'acc_vr' is not defined"
     ]
    }
   ],
   "source": [
    "acc_tr, loss_vr = model.evaluate_generator(validation_data)\n",
    "print(acc_vr)\n",
    "print(loss_vr)"
   ]
  },
  {
   "cell_type": "code",
   "execution_count": null,
   "id": "dbee9a95",
   "metadata": {},
   "outputs": [],
   "source": [
    "acc_test, loss_test = model.evaluate_generator(test_data)\n",
    "print(acc_tr)\n",
    "print(loss_tr)"
   ]
  },
  {
   "cell_type": "code",
   "execution_count": null,
   "id": "cfd22067",
   "metadata": {},
   "outputs": [],
   "source": []
  }
 ],
 "metadata": {
  "kernelspec": {
   "display_name": "Python 3 (ipykernel)",
   "language": "python",
   "name": "python3"
  },
  "language_info": {
   "codemirror_mode": {
    "name": "ipython",
    "version": 3
   },
   "file_extension": ".py",
   "mimetype": "text/x-python",
   "name": "python",
   "nbconvert_exporter": "python",
   "pygments_lexer": "ipython3",
   "version": "3.11.3"
  }
 },
 "nbformat": 4,
 "nbformat_minor": 5
}
